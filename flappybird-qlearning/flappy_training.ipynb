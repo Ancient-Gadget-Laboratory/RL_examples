{
 "cells": [
  {
   "cell_type": "markdown",
   "metadata": {},
   "source": [
    "## File Structure\n",
    "\n",
    "- `src/flappy.py` - Run to see the actual visual gameplay.\n",
    "- `src/learn.py` - Run for faster learning/training. This runs without any pygame visualization, so it's much faster.\n",
    "  - The following command-line args are available:\n",
    "    - `--verbose` to see `iteration | score` pair printed at each iteration. (Iteration = a bird playing from start until death)\n",
    "    - `--iter` number of iterations to run.\n",
    "- `src/initialize_qvalues.py` - Run if you want to reset the q-values, so you can observe how the bird learns to play over time.\n",
    "- `src/bot.py` - This file contains the Bot class that applies the Q-Learning logic to the game.\n"
   ]
  },
  {
   "cell_type": "markdown",
   "metadata": {},
   "source": [
    "Currently, run `learn-opt.py` to train the model. "
   ]
  },
  {
   "cell_type": "markdown",
   "metadata": {},
   "source": [
    "## Benchmark Results\n",
    "\n",
    "Test with initial `learn.py`.\n",
    "\n",
    "| Iterations | Training Time |\n",
    "| ---------- | ------------- |\n",
    "| 1000       | 55s           |\n",
    "| 2000       | 142s          |\n",
    "| 3000       | 165s          |\n",
    "| 4000       | 205s          |"
   ]
  },
  {
   "cell_type": "code",
   "execution_count": 1,
   "metadata": {},
   "outputs": [
    {
     "name": "stdout",
     "output_type": "stream",
     "text": [
      "pygame-ce 2.5.3 (SDL 2.30.12, Python 3.11.11)\n"
     ]
    }
   ],
   "source": [
    "# check the effect\n",
    "!python src/flappy.py"
   ]
  },
  {
   "cell_type": "code",
   "execution_count": null,
   "metadata": {},
   "outputs": [],
   "source": [
    "# visualize the cProfile output\n",
    "!python -m flameprof pipeline.prof > pipeline.svg"
   ]
  }
 ],
 "metadata": {
  "kernelspec": {
   "display_name": "RL",
   "language": "python",
   "name": "python3"
  },
  "language_info": {
   "codemirror_mode": {
    "name": "ipython",
    "version": 3
   },
   "file_extension": ".py",
   "mimetype": "text/x-python",
   "name": "python",
   "nbconvert_exporter": "python",
   "pygments_lexer": "ipython3",
   "version": "3.11.11"
  }
 },
 "nbformat": 4,
 "nbformat_minor": 2
}
